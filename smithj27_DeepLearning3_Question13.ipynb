{
  "nbformat": 4,
  "nbformat_minor": 0,
  "metadata": {
    "colab": {
      "name": "smithj27_DeepLearning3_Question13.ipynb",
      "version": "0.3.2",
      "provenance": []
    },
    "kernelspec": {
      "name": "python3",
      "display_name": "Python 3"
    },
    "accelerator": "GPU"
  },
  "cells": [
    {
      "metadata": {
        "id": "e_M9e8IJgrQ0",
        "colab_type": "code",
        "colab": {}
      },
      "cell_type": "code",
      "source": [
        "import numpy as np\n",
        "import pandas as pd\n",
        "from sklearn.model_selection import train_test_split\n",
        "import lightgbm as lgb"
      ],
      "execution_count": 0,
      "outputs": []
    },
    {
      "metadata": {
        "id": "CeqYWL-ykUDO",
        "colab_type": "code",
        "colab": {}
      },
      "cell_type": "code",
      "source": [
        "train = pd.read_csv(\"train.csv\")\n",
        "test = pd.read_csv(\"test.csv\")"
      ],
      "execution_count": 0,
      "outputs": []
    },
    {
      "metadata": {
        "id": "fXQZa68Kke27",
        "colab_type": "code",
        "colab": {}
      },
      "cell_type": "code",
      "source": [
        "toremove = []\n",
        "for items in train.columns:\n",
        "  if items != \"ID\" and items != \"target\":\n",
        "    if train[items].std() == 0:\n",
        "      toremove.append(items)\n",
        "\n",
        "train.drop(toremove, axis=1, inplace=True)\n",
        "test.drop(toremove, axis=1, inplace=True)"
      ],
      "execution_count": 0,
      "outputs": []
    },
    {
      "metadata": {
        "id": "iQEzUzeEk3mx",
        "colab_type": "code",
        "colab": {}
      },
      "cell_type": "code",
      "source": [
        "def duplicates(df):\n",
        "  x = df.columns.to_series().groupby(df.dtypes).groups\n",
        "  duplicate = []\n",
        "  \n",
        "  for a, b in x.items():\n",
        "    y = df[b].columns\n",
        "    z = df[b]\n",
        "    length = len(y)\n",
        "    \n",
        "    for i in range(length):\n",
        "      g = z.iloc[:, i].values\n",
        "      for h in range(i+1, length):\n",
        "        j = z.iloc[:, h].values\n",
        "        if np.array_equal(g, j):\n",
        "          duplicate.append(y[i])\n",
        "          break\n",
        "  \n",
        "  return duplicate\n",
        "\n",
        "toremove = duplicates(train)"
      ],
      "execution_count": 0,
      "outputs": []
    },
    {
      "metadata": {
        "id": "hpLmJbptpSOm",
        "colab_type": "code",
        "colab": {}
      },
      "cell_type": "code",
      "source": [
        "train.drop(toremove, axis=1, inplace=True)\n",
        "\n",
        "test.drop(toremove, axis=1, inplace=True)"
      ],
      "execution_count": 0,
      "outputs": []
    },
    {
      "metadata": {
        "id": "Vsqnpw03mQEw",
        "colab_type": "code",
        "colab": {}
      },
      "cell_type": "code",
      "source": [
        "def sparse_remove(df1, df2):\n",
        "  list1 = [x for x in df1.columns if not x in [\"ID\", \"target\"]]\n",
        "  for items in list1:\n",
        "    if len(np.unique(df1[items])) < 2:\n",
        "      df1.drop(items, axis=1, inplace=True)\n",
        "      df2.drop(items, axis=1, inplace=True)\n",
        "  return df1, df2\n",
        "\n",
        "train, test = sparse_remove(train, test)"
      ],
      "execution_count": 0,
      "outputs": []
    },
    {
      "metadata": {
        "colab_type": "code",
        "id": "_yCMdHE5E_if",
        "colab": {}
      },
      "cell_type": "code",
      "source": [
        "X_train = train.drop([\"ID\", \"target\"], axis=1)\n",
        "Y_train = np.log1p(train[\"target\"].values)\n",
        "x_test = test.drop([\"ID\"], axis=1)"
      ],
      "execution_count": 0,
      "outputs": []
    },
    {
      "metadata": {
        "id": "iL3znIycFAX3",
        "colab_type": "code",
        "colab": {}
      },
      "cell_type": "code",
      "source": [
        "devel_X, val_X, devel_y, val_y = train_test_split(X_train, Y_train, test_size = 0.2, random_state=44)"
      ],
      "execution_count": 0,
      "outputs": []
    },
    {
      "metadata": {
        "id": "v59AGUiIFwaF",
        "colab_type": "code",
        "colab": {}
      },
      "cell_type": "code",
      "source": [
        "def run_lgb(train_X, train_y, val_X, val_y, test_X):\n",
        "  params = {\n",
        "      \"objective\": \"regression\",\n",
        "      \"metric\": \"rmse\",\n",
        "      \"num_leaves\": 42,\n",
        "      \"learning_rate\": .01,\n",
        "      \"bagging_fraction\": .75,\n",
        "      \"feature_fraction\": .75,\n",
        "      \"bagging_frequency\": 8,\n",
        "      \"bagging_seed\": 42,\n",
        "      \"verbosity\": -1,\n",
        "      \"seed\": 42\n",
        "  }\n",
        "  \n",
        "  lgtrain = lgb.Dataset(train_X, label=train_y)\n",
        "  lgval = lgb.Dataset(val_X, label=val_y)\n",
        "  eval_result = {}\n",
        "  model = lgb.train(params, lgtrain, 5000, valid_sets=[lgtrain, lgval],\n",
        "                   early_stopping_rounds = 120, verbose_eval = 150, \n",
        "                   evals_result = eval_result)\n",
        "  pred_test_y = np.expm1(model.predict(test_X, num_iteration=model.best_iteration))\n",
        "  return pred_test_y, model, eval_result"
      ],
      "execution_count": 0,
      "outputs": []
    },
    {
      "metadata": {
        "id": "NFSejysmI7Qc",
        "colab_type": "code",
        "colab": {
          "base_uri": "https://localhost:8080/",
          "height": 127
        },
        "outputId": "a1d38ac1-4eb2-4364-afad-f70efe65b470"
      },
      "cell_type": "code",
      "source": [
        "pred_test, model, eval_result = run_lgb(devel_X, devel_y, val_X, val_y, x_test)"
      ],
      "execution_count": 59,
      "outputs": [
        {
          "output_type": "stream",
          "text": [
            "Training until validation scores don't improve for 120 rounds.\n",
            "[150]\ttraining's rmse: 1.27164\tvalid_1's rmse: 1.44967\n",
            "[300]\ttraining's rmse: 1.06447\tvalid_1's rmse: 1.40813\n",
            "[450]\ttraining's rmse: 0.945947\tvalid_1's rmse: 1.40421\n",
            "Early stopping, best iteration is:\n",
            "[467]\ttraining's rmse: 0.935491\tvalid_1's rmse: 1.40417\n"
          ],
          "name": "stdout"
        }
      ]
    }
  ]
}