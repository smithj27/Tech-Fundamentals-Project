{
  "nbformat": 4,
  "nbformat_minor": 0,
  "metadata": {
    "colab": {
      "name": "Machine_Learning_Code.ipynb",
      "version": "0.3.2",
      "provenance": [],
      "collapsed_sections": [],
      "include_colab_link": true
    },
    "kernelspec": {
      "name": "python3",
      "display_name": "Python 3"
    },
    "accelerator": "GPU"
  },
  "cells": [
    {
      "cell_type": "markdown",
      "metadata": {
        "id": "view-in-github",
        "colab_type": "text"
      },
      "source": [
        "<a href=\"https://colab.research.google.com/github/smithj27/Tech-Fundamentals-Project/blob/master/Code-For-Project/Machine_Learning_Code.ipynb\" target=\"_parent\"><img src=\"https://colab.research.google.com/assets/colab-badge.svg\" alt=\"Open In Colab\"/></a>"
      ]
    },
    {
      "metadata": {
        "id": "e_M9e8IJgrQ0",
        "colab_type": "code",
        "colab": {}
      },
      "cell_type": "code",
      "source": [
        "#Importing all libraries\n",
        "import numpy as np\n",
        "import pandas as pd\n",
        "from sklearn.model_selection import train_test_split\n",
        "import lightgbm as lgb\n",
        "import xgboost as xgb\n",
        "from sklearn.preprocessing import MaxAbsScaler\n",
        "scaler = MaxAbsScaler()\n",
        "from sklearn.feature_selection import SelectKBest\n",
        "from sklearn.feature_selection import mutual_info_regression\n",
        "from sklearn.feature_selection import f_regression\n",
        "from sklearn.linear_model import Lasso"
      ],
      "execution_count": 0,
      "outputs": []
    },
    {
      "metadata": {
        "id": "CeqYWL-ykUDO",
        "colab_type": "code",
        "colab": {}
      },
      "cell_type": "code",
      "source": [
        "#Import files into code\n",
        "train = pd.read_csv(\"train.csv\")\n",
        "test = pd.read_csv(\"test.csv\")"
      ],
      "execution_count": 0,
      "outputs": []
    },
    {
      "metadata": {
        "id": "fXQZa68Kke27",
        "colab_type": "code",
        "colab": {}
      },
      "cell_type": "code",
      "source": [
        "#Check for constant columns\n",
        "toremove = []\n",
        "for items in train.columns:\n",
        "  if items != \"ID\" and items != \"target\":\n",
        "    if train[items].std() == 0:\n",
        "      toremove.append(items)\n",
        "\n",
        "#Remove constant columns from datasets\n",
        "train.drop(toremove, axis=1, inplace=True)\n",
        "test.drop(toremove, axis=1, inplace=True)"
      ],
      "execution_count": 0,
      "outputs": []
    },
    {
      "metadata": {
        "id": "iQEzUzeEk3mx",
        "colab_type": "code",
        "colab": {}
      },
      "cell_type": "code",
      "source": [
        "#Check for duplicate columns\n",
        "def duplicates(df):\n",
        "  x = df.columns.to_series().groupby(df.dtypes).groups\n",
        "  duplicate = []\n",
        "  \n",
        "  for a, b in x.items():\n",
        "    y = df[b].columns\n",
        "    z = df[b]\n",
        "    length = len(y)\n",
        "    \n",
        "    for i in range(length):\n",
        "      g = z.iloc[:, i].values\n",
        "      for h in range(i+1, length):\n",
        "        j = z.iloc[:, h].values\n",
        "        if np.array_equal(g, j):\n",
        "          duplicate.append(y[i])\n",
        "          break\n",
        "  \n",
        "  return duplicate\n",
        "\n",
        "toremove = duplicates(train)"
      ],
      "execution_count": 0,
      "outputs": []
    },
    {
      "metadata": {
        "id": "hpLmJbptpSOm",
        "colab_type": "code",
        "colab": {}
      },
      "cell_type": "code",
      "source": [
        "#Removing duplicate columns from datasets\n",
        "train.drop(toremove, axis=1, inplace=True)\n",
        "test.drop(toremove, axis=1, inplace=True)"
      ],
      "execution_count": 0,
      "outputs": []
    },
    {
      "metadata": {
        "id": "Vsqnpw03mQEw",
        "colab_type": "code",
        "colab": {}
      },
      "cell_type": "code",
      "source": [
        "#Removes sparse data from datasets\n",
        "def sparse_remove(df1, df2):\n",
        "  list1 = [x for x in df1.columns if not x in [\"ID\", \"target\"]]\n",
        "  for items in list1:\n",
        "    if len(np.unique(df1[items])) < 2:\n",
        "      df1.drop(items, axis=1, inplace=True)\n",
        "      df2.drop(items, axis=1, inplace=True)\n",
        "  return df1, df2\n",
        "\n",
        "train, test = sparse_remove(train, test)"
      ],
      "execution_count": 0,
      "outputs": []
    },
    {
      "metadata": {
        "colab_type": "code",
        "id": "_yCMdHE5E_if",
        "colab": {}
      },
      "cell_type": "code",
      "source": [
        "#Preparing data for modeling\n",
        "X_train = train.drop([\"ID\", \"target\"], axis=1)\n",
        "Y_train = np.log1p(train[\"target\"].values)\n",
        "x_test = test.drop([\"ID\"], axis=1)"
      ],
      "execution_count": 0,
      "outputs": []
    },
    {
      "metadata": {
        "id": "iL3znIycFAX3",
        "colab_type": "code",
        "colab": {}
      },
      "cell_type": "code",
      "source": [
        "devel_X, val_X, devel_y, val_y = train_test_split(X_train, Y_train, test_size = 0.2, random_state=44)"
      ],
      "execution_count": 0,
      "outputs": []
    },
    {
      "metadata": {
        "id": "v59AGUiIFwaF",
        "colab_type": "code",
        "colab": {}
      },
      "cell_type": "code",
      "source": [
        "#Preparing LightGBM Model\n",
        "def run_lgb(train_X, train_y, val_X, val_y, test_X):\n",
        "  params = {\n",
        "      \"objective\": \"regression\",\n",
        "      \"metric\": \"rmse\",\n",
        "      \"num_leaves\": 42,\n",
        "      \"learning_rate\": .01,\n",
        "      \"bagging_fraction\": .75,\n",
        "      \"feature_fraction\": .75,\n",
        "      \"bagging_frequency\": 8,\n",
        "      \"bagging_seed\": 42,\n",
        "      \"verbosity\": -1,\n",
        "      \"seed\": 42\n",
        "  }\n",
        "  \n",
        "  lgtrain = lgb.Dataset(train_X, label=train_y)\n",
        "  lgval = lgb.Dataset(val_X, label=val_y)\n",
        "  eval_result = {}\n",
        "  model = lgb.train(params, lgtrain, 5000, valid_sets=[lgtrain, lgval],\n",
        "                   early_stopping_rounds = 120, verbose_eval = 150, \n",
        "                   evals_result = eval_result)\n",
        "  pred_test_y = np.expm1(model.predict(test_X, num_iteration=model.best_iteration))\n",
        "  return pred_test_y, model, eval_result"
      ],
      "execution_count": 0,
      "outputs": []
    },
    {
      "metadata": {
        "id": "NFSejysmI7Qc",
        "colab_type": "code",
        "outputId": "224a050f-d56b-45e2-ffe8-341b072f7a0c",
        "colab": {
          "base_uri": "https://localhost:8080/",
          "height": 127
        }
      },
      "cell_type": "code",
      "source": [
        "#Run LightGBM Training\n",
        "pred_test, model, eval_result = run_lgb(devel_X, devel_y, val_X, val_y, x_test)"
      ],
      "execution_count": 0,
      "outputs": [
        {
          "output_type": "stream",
          "text": [
            "Training until validation scores don't improve for 120 rounds.\n",
            "[150]\ttraining's rmse: 1.27164\tvalid_1's rmse: 1.44967\n",
            "[300]\ttraining's rmse: 1.06447\tvalid_1's rmse: 1.40813\n",
            "[450]\ttraining's rmse: 0.945947\tvalid_1's rmse: 1.40421\n",
            "Early stopping, best iteration is:\n",
            "[467]\ttraining's rmse: 0.935491\tvalid_1's rmse: 1.40417\n"
          ],
          "name": "stdout"
        }
      ]
    },
    {
      "metadata": {
        "id": "X7769StmeUxU",
        "colab_type": "code",
        "colab": {}
      },
      "cell_type": "code",
      "source": [
        "#Preparing XGBoost Model\n",
        "def run_xgb(train_X, train_y, val_X, val_y, test_X):\n",
        "  params = {\n",
        "      'objective': 'reg:linear',\n",
        "      'eval_metric': 'rmse',\n",
        "      'eta': .01,\n",
        "      'max_depth': 8,\n",
        "      'subsample': .8,\n",
        "      'alpha': 0.0001,\n",
        "      'random_state': 42\n",
        "  }\n",
        "  \n",
        "  train_data = xgb.DMatrix(train_X, train_y)\n",
        "  valid_data = xgb.DMatrix(val_X, val_y)\n",
        "  \n",
        "  watch = [(train_data, 'train'), (valid_data, 'valid')]\n",
        "  \n",
        "  model_xgb = xgb.train(params, train_data, 3000, watch, maximize=False,\n",
        "                       early_stopping_rounds = 120, verbose_eval = 150)\n",
        "  \n",
        "  dtest = xgb.DMatrix(test_X)\n",
        "  xgb_pred_y = np.expm1(model_xgb.predict(dtest, ntree_limit=model_xgb.best_ntree_limit))\n",
        "  \n",
        "  return xgb_pred_y, model_xgb"
      ],
      "execution_count": 0,
      "outputs": []
    },
    {
      "metadata": {
        "id": "3FeyKptmg6SN",
        "colab_type": "code",
        "outputId": "4c1ce19e-f894-44a5-8e2d-4c2b2ff2fff2",
        "colab": {
          "base_uri": "https://localhost:8080/",
          "height": 293
        }
      },
      "cell_type": "code",
      "source": [
        "#Running XGBoost Training\n",
        "pred_test_xgb, model_xgb = run_xgb(devel_X, devel_y, val_X, val_y, x_test)"
      ],
      "execution_count": 0,
      "outputs": [
        {
          "output_type": "stream",
          "text": [
            "[0]\ttrain-rmse:13.9387\tvalid-rmse:14.0484\n",
            "Multiple eval metrics have been passed: 'valid-rmse' will be used for early stopping.\n",
            "\n",
            "Will train until valid-rmse hasn't improved in 120 rounds.\n",
            "[150]\ttrain-rmse:3.39192\tvalid-rmse:3.522\n",
            "[300]\ttrain-rmse:1.37615\tvalid-rmse:1.64762\n",
            "[450]\ttrain-rmse:1.09179\tvalid-rmse:1.45526\n",
            "[600]\ttrain-rmse:1.01767\tvalid-rmse:1.43373\n",
            "[750]\ttrain-rmse:0.968155\tvalid-rmse:1.42756\n",
            "[900]\ttrain-rmse:0.921351\tvalid-rmse:1.42411\n",
            "[1050]\ttrain-rmse:0.887643\tvalid-rmse:1.42331\n",
            "[1200]\ttrain-rmse:0.853641\tvalid-rmse:1.42353\n",
            "Stopping. Best iteration:\n",
            "[1105]\ttrain-rmse:0.873109\tvalid-rmse:1.42255\n",
            "\n"
          ],
          "name": "stdout"
        }
      ]
    },
    {
      "metadata": {
        "id": "WM3zdLCEtv5o",
        "colab_type": "code",
        "colab": {}
      },
      "cell_type": "code",
      "source": [
        "#Preparing data for Lasso\n",
        "feature = SelectKBest(mutual_info_regression, k=300)\n",
        "xtrain = feature.fit_transform(X_train, Y_train)\n",
        "xtest = feature.transform(x_test)"
      ],
      "execution_count": 0,
      "outputs": []
    },
    {
      "metadata": {
        "id": "2qaLd8G-uEDN",
        "colab_type": "code",
        "colab": {}
      },
      "cell_type": "code",
      "source": [
        "#Preparing Lasso Model\n",
        "train_data = scaler.fit_transform(xtrain)\n",
        "test_data = scaler.fit_transform(xtest)\n",
        "test3 = Lasso(alpha=.0001, max_iter = 12000)"
      ],
      "execution_count": 0,
      "outputs": []
    },
    {
      "metadata": {
        "id": "NgHU7g-XufvU",
        "colab_type": "code",
        "outputId": "ad622fdc-f5de-438a-938b-1bd1c00f4fd7",
        "colab": {
          "base_uri": "https://localhost:8080/",
          "height": 72
        }
      },
      "cell_type": "code",
      "source": [
        "#Running Lasso Training\n",
        "test3.fit(train_data, Y_train)"
      ],
      "execution_count": 0,
      "outputs": [
        {
          "output_type": "execute_result",
          "data": {
            "text/plain": [
              "Lasso(alpha=0.0001, copy_X=True, fit_intercept=True, max_iter=12000,\n",
              "   normalize=False, positive=False, precompute=False, random_state=None,\n",
              "   selection='cyclic', tol=0.0001, warm_start=False)"
            ]
          },
          "metadata": {
            "tags": []
          },
          "execution_count": 15
        }
      ]
    },
    {
      "metadata": {
        "id": "zP6cF-auujVf",
        "colab_type": "code",
        "colab": {}
      },
      "cell_type": "code",
      "source": [
        "prediction = test3.predict(test_data)"
      ],
      "execution_count": 0,
      "outputs": []
    },
    {
      "metadata": {
        "id": "gQ3VeXdmZibX",
        "colab_type": "code",
        "colab": {}
      },
      "cell_type": "code",
      "source": [
        "#Prepare output for submission\n",
        "sub = pd.read_csv(\"sample_submission.csv\")\n",
        "\n",
        "sub_lgb = pd.DataFrame()\n",
        "sub_lgb[\"target\"] = pred_test\n",
        "\n",
        "sub_xgb = pd.DataFrame()\n",
        "sub_xgb[\"target\"] = pred_test_xgb\n",
        "\n",
        "#Adding output to submission file\n",
        "sub[\"target\"] = (sub_lgb[\"target\"] * 0.5 + sub_xgb[\"target\"] * 0.49 + \n",
        "                 np.expm1(prediction) * 0.01)"
      ],
      "execution_count": 0,
      "outputs": []
    },
    {
      "metadata": {
        "id": "TT7155fxc4lS",
        "colab_type": "code",
        "colab": {}
      },
      "cell_type": "code",
      "source": [
        "sub.to_csv('sub_lgb_ xgb_lasso3.csv', index=False)"
      ],
      "execution_count": 0,
      "outputs": []
    }
  ]
}